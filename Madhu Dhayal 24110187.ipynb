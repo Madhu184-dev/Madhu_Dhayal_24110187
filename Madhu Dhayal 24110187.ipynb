{
 "cells": [
  {
   "cell_type": "code",
   "execution_count": 1,
   "id": "0ccf01f7-8021-442e-b3a4-92e67682252e",
   "metadata": {},
   "outputs": [
    {
     "name": "stdout",
     "output_type": "stream",
     "text": [
      "Defaulting to user installation because normal site-packages is not writeable\n",
      "Requirement already satisfied: matplotlib in c:\\users\\madhu\\appdata\\roaming\\python\\python312\\site-packages (3.10.0)\n",
      "Requirement already satisfied: contourpy>=1.0.1 in c:\\users\\madhu\\appdata\\roaming\\python\\python312\\site-packages (from matplotlib) (1.3.1)\n",
      "Requirement already satisfied: cycler>=0.10 in c:\\users\\madhu\\appdata\\roaming\\python\\python312\\site-packages (from matplotlib) (0.12.1)\n",
      "Requirement already satisfied: fonttools>=4.22.0 in c:\\users\\madhu\\appdata\\roaming\\python\\python312\\site-packages (from matplotlib) (4.55.3)\n",
      "Requirement already satisfied: kiwisolver>=1.3.1 in c:\\users\\madhu\\appdata\\roaming\\python\\python312\\site-packages (from matplotlib) (1.4.8)\n",
      "Requirement already satisfied: numpy>=1.23 in c:\\users\\madhu\\appdata\\roaming\\python\\python312\\site-packages (from matplotlib) (2.2.1)\n",
      "Requirement already satisfied: packaging>=20.0 in c:\\users\\madhu\\appdata\\roaming\\python\\python312\\site-packages (from matplotlib) (24.2)\n",
      "Requirement already satisfied: pillow>=8 in c:\\users\\madhu\\appdata\\roaming\\python\\python312\\site-packages (from matplotlib) (11.1.0)\n",
      "Requirement already satisfied: pyparsing>=2.3.1 in c:\\users\\madhu\\appdata\\roaming\\python\\python312\\site-packages (from matplotlib) (3.2.1)\n",
      "Requirement already satisfied: python-dateutil>=2.7 in c:\\users\\madhu\\appdata\\roaming\\python\\python312\\site-packages (from matplotlib) (2.9.0.post0)\n",
      "Requirement already satisfied: six>=1.5 in c:\\users\\madhu\\appdata\\roaming\\python\\python312\\site-packages (from python-dateutil>=2.7->matplotlib) (1.17.0)\n"
     ]
    },
    {
     "name": "stderr",
     "output_type": "stream",
     "text": [
      "\n",
      "[notice] A new release of pip is available: 24.0 -> 24.3.1\n",
      "[notice] To update, run: python.exe -m pip install --upgrade pip\n"
     ]
    }
   ],
   "source": [
    "!pip install matplotlib"
   ]
  },
  {
   "cell_type": "code",
   "execution_count": 2,
   "id": "062d2392-c82b-4c6a-b767-357a5d192fb9",
   "metadata": {},
   "outputs": [
    {
     "name": "stdout",
     "output_type": "stream",
     "text": [
      "Using matplotlib backend: module://matplotlib_inline.backend_inline\n"
     ]
    }
   ],
   "source": [
    "%matplotlib"
   ]
  },
  {
   "cell_type": "markdown",
   "id": "4f910c86-2ed8-44dd-897a-4442c66b1b51",
   "metadata": {},
   "source": [
    "1. List Operations and Basic Statistics:"
   ]
  },
  {
   "cell_type": "code",
   "execution_count": 3,
   "id": "3dca74fc-0c38-45da-bd83-7dd58ef99343",
   "metadata": {},
   "outputs": [
    {
     "name": "stdout",
     "output_type": "stream",
     "text": [
      "Sum of even numbers: 110\n",
      "Product of odd numbers: 654729075\n",
      "Mean: 10.5\n",
      "Median: 10.5\n",
      "Standard Deviation: 5.766281297335398\n"
     ]
    }
   ],
   "source": [
    "# Create a list of the first 20 natural numbers\n",
    "numbers = list(range(1, 21))\n",
    "\n",
    "# Compute the sum of all even numbers in the list\n",
    "sum_even = sum(num for num in numbers if num % 2 == 0)\n",
    "\n",
    "# Compute the product of all odd numbers in the list\n",
    "product_odd = 1\n",
    "for num in numbers:\n",
    "    if num % 2 != 0:\n",
    "        product_odd *= num\n",
    "\n",
    "# Calculate the mean of the list\n",
    "mean = sum(numbers) / len(numbers)\n",
    "\n",
    "# Calculate the median of the list\n",
    "n = len(numbers)\n",
    "sorted_numbers = sorted(numbers)\n",
    "if n % 2 == 0:\n",
    "    median = (sorted_numbers[n//2 - 1] + sorted_numbers[n//2]) / 2\n",
    "else:\n",
    "    median = sorted_numbers[n//2]\n",
    "\n",
    "# Calculate the standard deviation of the list\n",
    "mean_square_diff = sum((num - mean) ** 2 for num in numbers) / n\n",
    "std_deviation = mean_square_diff ** 0.5\n",
    "\n",
    "# Print the results\n",
    "print(\"Sum of even numbers:\", sum_even)\n",
    "print(\"Product of odd numbers:\", product_odd)\n",
    "print(\"Mean:\", mean)\n",
    "print(\"Median:\", median)\n",
    "print(\"Standard Deviation:\", std_deviation)\n"
   ]
  },
  {
   "cell_type": "markdown",
   "id": "ed8443a1-623d-4f76-ae72-534c1e0e0ed2",
   "metadata": {},
   "source": [
    "2. Mutable vs. Immutable Data Types:"
   ]
  },
  {
   "cell_type": "code",
   "execution_count": null,
   "id": "528d7a8c-ba0c-48b5-9855-30f782dea1c3",
   "metadata": {},
   "outputs": [],
   "source": [
    "Mutable Data Types Definition: Objects whose values can be changed after creation without changing their identity (memory location). \n",
    "Examples: list, dict, set, bytearray, and custom mutable classes.\n",
    "Behaviour: You can modify, add, or delete elements of these objects in-place."
   ]
  },
  {
   "cell_type": "code",
   "execution_count": null,
   "id": "b178bcf9-9c45-4ab3-8622-29807d6ddb5c",
   "metadata": {},
   "outputs": [],
   "source": [
    "Definition: Immutable data types are those whose values cannot be modified after the object is created. Any modification to an immutable object results in the creation of a new object, leaving the original object unchanged.\n",
    "Example: String, Tuples, Integers\n",
    "Behaviour: you can't modify "
   ]
  },
  {
   "cell_type": "markdown",
   "id": "4a32244b-0f4a-4167-99a8-aa6d45f9d5a9",
   "metadata": {},
   "source": [
    "3.Fibonacci Sequence:"
   ]
  },
  {
   "cell_type": "code",
   "execution_count": 4,
   "id": "91f3740a-2ed1-4a04-9fc3-82331835f56c",
   "metadata": {},
   "outputs": [
    {
     "name": "stdout",
     "output_type": "stream",
     "text": [
      "First 10 Fibonacci numbers: [0, 1, 1, 2, 3, 5, 8, 13, 21, 34]\n"
     ]
    },
    {
     "data": {
      "image/png": "[encoded data removed]",
      "text/plain": [
       "<Figure size 640x480 with 1 Axes>"
      ]
     },
     "metadata": {},
     "output_type": "display_data"
    }
   ],
   "source": [
    "# Function to generate the first n Fibonacci numbers\n",
    "def generate_fibonacci(n):\n",
    "    if n <= 0:\n",
    "        return []\n",
    "    if n == 1:\n",
    "        return [0]\n",
    "    fibonacci = [0, 1]\n",
    "    for _ in range(2, n):\n",
    "        fibonacci.append(fibonacci[-1] + fibonacci[-2])\n",
    "    return fibonacci\n",
    "\n",
    "# Plot the Fibonacci sequence\n",
    "def plot_fibonacci(n):\n",
    "    import matplotlib.pyplot as plt\n",
    "\n",
    "    fibonacci = generate_fibonacci(n)\n",
    "    plt.plot(range(n), fibonacci, marker='o', linestyle='-', color='b')\n",
    "    plt.title(\"Fibonacci Sequence\")\n",
    "    plt.xlabel(\"Index\")\n",
    "    plt.ylabel(\"Fibonacci Number\")\n",
    "    plt.grid()\n",
    "    plt.show()\n",
    "\n",
    "# Example usage\n",
    "n = 10\n",
    "print(\"First\", n, \"Fibonacci numbers:\", generate_fibonacci(n))\n",
    "plot_fibonacci(n)\n"
   ]
  },
  {
   "cell_type": "markdown",
   "id": "1cfdf357-cc7d-4215-aff0-46dbdce2e051",
   "metadata": {},
   "source": [
    "4. List Manipulation:"
   ]
  },
  {
   "cell_type": "code",
   "execution_count": 5,
   "id": "e2bcd008-e84d-4d06-b938-7c17b51ddeab",
   "metadata": {},
   "outputs": [
    {
     "name": "stdout",
     "output_type": "stream",
     "text": [
      "Modified list: [13, 11, 9, 6, 5, 3]\n",
      "Mean: 7.833333333333333\n",
      "Median: 7.5\n"
     ]
    }
   ],
   "source": [
    "# Modify a given list and calculate statistics\n",
    "def modify_and_calculate():\n",
    "    lst = [3, 5, 7, 9, 11, 13]\n",
    "\n",
    "    # Insert 6 at the 3rd index\n",
    "    lst.insert(3, 6)\n",
    "\n",
    "    # Remove the number 7 from the list\n",
    "    lst.remove(7)\n",
    "\n",
    "    # Reverse the list\n",
    "    lst.reverse()\n",
    "\n",
    "    # Calculate the mean\n",
    "    mean = sum(lst) / len(lst)\n",
    "\n",
    "    # Calculate the median\n",
    "    n = len(lst)\n",
    "    sorted_lst = sorted(lst)\n",
    "    if n % 2 == 0:\n",
    "        median = (sorted_lst[n//2 - 1] + sorted_lst[n//2]) / 2\n",
    "    else:\n",
    "        median = sorted_lst[n//2]\n",
    "\n",
    "    # Print results\n",
    "    print(\"Modified list:\", lst)\n",
    "    print(\"Mean:\", mean)\n",
    "    print(\"Median:\", median)\n",
    "\n",
    "# Example usage\n",
    "modify_and_calculate()\n"
   ]
  },
  {
   "cell_type": "markdown",
   "id": "54ab5a2c-2383-459d-b345-52aaa9422a83",
   "metadata": {},
   "source": [
    "5. User Input and Basic Statistics:"
   ]
  },
  {
   "cell_type": "code",
   "execution_count": 8,
   "id": "e019060f-9a15-414b-803c-8dc365bfa46b",
   "metadata": {},
   "outputs": [
    {
     "name": "stdin",
     "output_type": "stream",
     "text": [
      "Enter a comma-separated list of numbers (e.g., 10, 20, 30, 40):  10, 20, 30, 40\n"
     ]
    },
    {
     "name": "stdout",
     "output_type": "stream",
     "text": [
      "Mean: 25.0\n",
      "Smallest number: 10.0\n",
      "Largest number: 40.0\n"
     ]
    },
    {
     "data": {
      "image/png": "[encoded data removed]",
      "text/plain": [
       "<Figure size 640x480 with 1 Axes>"
      ]
     },
     "metadata": {},
     "output_type": "display_data"
    }
   ],
   "source": [
    "import matplotlib.pyplot as plt\n",
    "\n",
    "# Read a comma-separated list of numbers from the user\n",
    "input_string = input(\"Enter a comma-separated list of numbers (e.g., 10, 20, 30, 40): \")\n",
    "\n",
    "# Convert the input string to a list of numbers (floats)\n",
    "numbers = [float(num.strip()) for num in input_string.split(\",\")]\n",
    "\n",
    "# Calculate the mean manually\n",
    "total = sum(numbers)\n",
    "count = len(numbers)\n",
    "mean = total / count\n",
    "\n",
    "# Identify the smallest and largest numbers\n",
    "smallest = min(numbers)\n",
    "largest = max(numbers)\n",
    "\n",
    "# Print the results\n",
    "print(f\"Mean: {mean}\")\n",
    "print(f\"Smallest number: {smallest}\")\n",
    "print(f\"Largest number: {largest}\")\n",
    "\n",
    "# Plot a histogram\n",
    "plt.hist(numbers, bins=10, edgecolor=\"black\", alpha=0.7)\n",
    "plt.title(\"Histogram of Numbers\")\n",
    "plt.xlabel(\"Value Range\")\n",
    "plt.ylabel(\"Frequency\")\n",
    "plt.show()\n"
   ]
  },
  {
   "cell_type": "markdown",
   "id": "908d3bb8-d75f-4585-bfcb-f058397bcbcb",
   "metadata": {},
   "source": [
    "6. Palindrome Check:"
   ]
  },
  {
   "cell_type": "code",
   "execution_count": 9,
   "id": "7f03a593-2a94-4212-a69a-4b1a0ede9e75",
   "metadata": {},
   "outputs": [
    {
     "name": "stdout",
     "output_type": "stream",
     "text": [
      "True\n"
     ]
    }
   ],
   "source": [
    "def is_palindrome(input_string):\n",
    "    # Remove spaces and convert to lowercase\n",
    "    cleaned_string = ''.join(char.lower() for char in input_string if char.isalnum())\n",
    "    \n",
    "    # Check if the cleaned string is the same as its reverse\n",
    "    return cleaned_string == cleaned_string[::-1]\n",
    "\n",
    "# Input\n",
    "input_string = \"A man a plan a canal Panama\"\n",
    "\n",
    "# Output\n",
    "print(is_palindrome(input_string))  # Output: True\n"
   ]
  },
  {
   "cell_type": "markdown",
   "id": "7a01982f-9929-4b51-bdc0-fc2399361eea",
   "metadata": {},
   "source": [
    "7. Dictionary Operations:"
   ]
  },
  {
   "cell_type": "code",
   "execution_count": 10,
   "id": "af034424-a323-4c3e-8df5-9feb168a7b7d",
   "metadata": {},
   "outputs": [
    {
     "name": "stdout",
     "output_type": "stream",
     "text": [
      "Average marks: 79.00\n",
      "Students scoring above the average:\n",
      "Alice\n",
      "Charlie\n",
      "Eve\n"
     ]
    },
    {
     "data": {
      "image/png": "[encoded data removed]",
      "text/plain": [
       "<Figure size 640x480 with 1 Axes>"
      ]
     },
     "metadata": {},
     "output_type": "display_data"
    }
   ],
   "source": [
    "import matplotlib.pyplot as plt\n",
    "\n",
    "# Dictionary of student names and their marks\n",
    "students = {\n",
    "    \"Alice\": 85,\n",
    "    \"Bob\": 76,\n",
    "    \"Charlie\": 92,\n",
    "    \"David\": 58,\n",
    "    \"Eve\": 91,\n",
    "    \"Frank\": 72\n",
    "}\n",
    "\n",
    "# Compute the average marks\n",
    "total_marks = sum(students.values())\n",
    "num_students = len(students)\n",
    "average_marks = total_marks / num_students\n",
    "\n",
    "# Print the average marks\n",
    "print(f\"Average marks: {average_marks:.2f}\")\n",
    "\n",
    "# Print names of students scoring above the average\n",
    "print(\"Students scoring above the average:\")\n",
    "for student, marks in students.items():\n",
    "    if marks > average_marks:\n",
    "        print(student)\n",
    "\n",
    "# Visualize the distribution of marks using a bar chart\n",
    "names = list(students.keys())\n",
    "marks = list(students.values())\n",
    "\n",
    "plt.bar(names, marks, color=\"blue\")\n",
    "plt.axhline(y=average_marks, color=\"red\", linestyle=\"--\", label=f'Average ({average_marks:.2f})')\n",
    "plt.title(\"Student Marks Distribution\")\n",
    "plt.xlabel(\"Student Names\")\n",
    "plt.ylabel(\"Marks\")\n",
    "plt.legend()\n",
    "plt.show()\n"
   ]
  },
  {
   "cell_type": "markdown",
   "id": "03988dc8-530e-4b7a-b1ac-2ab1c660e5f4",
   "metadata": {},
   "source": [
    "8. Tuple List Creation:"
   ]
  },
  {
   "cell_type": "code",
   "execution_count": 34,
   "id": "4172dff1-4fde-4659-a6f7-17843c38f45d",
   "metadata": {},
   "outputs": [
    {
     "data": {
      "text/plain": [
       "Text(0, 0.5, 'Square')"
      ]
     },
     "execution_count": 34,
     "metadata": {},
     "output_type": "execute_result"
    },
    {
     "data": {
      "image/png": "[encoded data removed]",
      "text/plain": [
       "<Figure size 640x480 with 1 Axes>"
      ]
     },
     "metadata": {},
     "output_type": "display_data"
    }
   ],
   "source": [
    "import matplotlib.pyplot as plt\n",
    "\n",
    "# Create a list of tuples (number, square of number) for numbers 1 to 10\n",
    "numbers_and_squares = [(i, i**2) for i in range(1, 11)]\n",
    "\n",
    "# Separate the numbers and squares into two lists\n",
    "numbers = [num for num, square in numbers_and_squares]\n",
    "squares = [square for num, square in numbers_and_squares]\n",
    "\n",
    "# Plot the numbers and their squares on a scatter plot\n",
    "plt.scatter(numbers, squares, color='blue', marker='o')\n",
    "\n",
    "# Add labels and title\n",
    "plt.title(\"Numbers and Their Squares\")\n",
    "plt.xlabel(\"Number\")\n",
    "plt.ylabel(\"Square\")\n",
    "\n"
   ]
  },
  {
   "cell_type": "markdown",
   "id": "31d2ae42-cf0f-4b90-a145-a01aef65fc60",
   "metadata": {},
   "source": [
    "9. Merging Dictionaries:"
   ]
  },
  {
   "cell_type": "code",
   "execution_count": 12,
   "id": "3a502115-0d6c-4c19-8eee-7e09ae42bbf2",
   "metadata": {},
   "outputs": [
    {
     "name": "stdout",
     "output_type": "stream",
     "text": [
      "{'a': 10, 'b': 25, 'c': 15}\n"
     ]
    }
   ],
   "source": [
    "# Define the two dictionaries\n",
    "dict1 = { 'a' : 10, 'b' : 20 }\n",
    "dict2 = { 'b' : 5, 'c' : 15 }\n",
    "\n",
    "# Merge the dictionaries and sum the values of common keys\n",
    "merged_dict = dict1.copy()  # Start with a copy of dict1\n",
    "\n",
    "for key, value in dict2.items():\n",
    "    if key in merged_dict:\n",
    "        merged_dict[key] += value  # If key exists, add the values\n",
    "    else:\n",
    "        merged_dict[key] = value  # If key doesn't exist, add it directly\n",
    "\n",
    "# Print the merged dictionary\n",
    "print(merged_dict)\n"
   ]
  },
  {
   "cell_type": "markdown",
   "id": "ba87b686-792f-42d7-9735-a01969e454ff",
   "metadata": {},
   "source": [
    "10. Character Frequency:"
   ]
  },
  {
   "cell_type": "code",
   "execution_count": 36,
   "id": "2249e20e-7862-4868-9676-048f7d7c0b80",
   "metadata": {},
   "outputs": [
    {
     "name": "stdout",
     "output_type": "stream",
     "text": [
      "{'h': 2, 'e': 3, 'l': 4, 'o': 5, 'w': 2, 'r': 1, 'd': 1, 'c': 1, 'm': 1, 't': 2, 'p': 1, 'y': 1, 'n': 1}\n"
     ]
    },
    {
     "data": {
      "text/plain": [
       "Text(0, 0.5, 'Frequency')"
      ]
     },
     "execution_count": 36,
     "metadata": {},
     "output_type": "execute_result"
    },
    {
     "data": {
      "image/png": "[encoded data removed]",
      "text/plain": [
       "<Figure size 640x480 with 1 Axes>"
      ]
     },
     "metadata": {},
     "output_type": "display_data"
    }
   ],
   "source": [
    "import matplotlib.pyplot as plt\n",
    "\n",
    "def count_character_frequencies(input_string):\n",
    "    # Convert the string to lowercase\n",
    "    input_string = input_string.lower()\n",
    "    \n",
    "    # Create an empty dictionary to store character frequencies\n",
    "    freq_dict = {}\n",
    "    \n",
    "    # Count the frequency of each character\n",
    "    for char in input_string:\n",
    "        if char.isalnum():  # Only count alphanumeric characters\n",
    "            if char in freq_dict:\n",
    "                freq_dict[char] += 1\n",
    "            else:\n",
    "                freq_dict[char] = 1\n",
    "                \n",
    "    # Return the dictionary of character frequencies\n",
    "    return freq_dict\n",
    "\n",
    "# Example input string\n",
    "input_string = \"Hello World! Welcome to Python.\"\n",
    "\n",
    "# Get the character frequencies\n",
    "char_freq = count_character_frequencies(input_string)\n",
    "\n",
    "# Print the frequency dictionary\n",
    "print(char_freq)\n",
    "\n",
    "# Visualize the frequencies using a bar chart\n",
    "characters = list(char_freq.keys())\n",
    "frequencies = list(char_freq.values())\n",
    "\n",
    "# Create the bar chart\n",
    "plt.bar(characters, frequencies, color='blue')\n",
    "plt.xlabel('Character')\n",
    "plt.ylabel('Frequency')\n",
    "\n",
    "\n"
   ]
  },
  {
   "cell_type": "markdown",
   "id": "7b4d1e8b-31ea-46c7-8ac0-1fad84b3fc8f",
   "metadata": {},
   "source": [
    "11. Remove Duplicates:"
   ]
  },
  {
   "cell_type": "code",
   "execution_count": 14,
   "id": "046e4963-575e-4f86-9949-570b6c7da7c1",
   "metadata": {},
   "outputs": [
    {
     "name": "stdout",
     "output_type": "stream",
     "text": [
      "Unique elements: [10, 20, 30, 40, 50, 60]\n",
      "Mean of unique elements: 35.0\n",
      "Median of unique elements: 35.0\n"
     ]
    }
   ],
   "source": [
    "def remove_duplicates(input_list):\n",
    "    # Remove duplicates while maintaining order\n",
    "    unique_list = []\n",
    "    for item in input_list:\n",
    "        if item not in unique_list:\n",
    "            unique_list.append(item)\n",
    "    return unique_list\n",
    "\n",
    "def calculate_mean(elements):\n",
    "    # Calculate the mean\n",
    "    return sum(elements) / len(elements)\n",
    "\n",
    "def calculate_median(elements):\n",
    "    # Calculate the median\n",
    "    sorted_elements = sorted(elements)\n",
    "    n = len(sorted_elements)\n",
    "    if n % 2 == 1:\n",
    "        # If odd, return the middle element\n",
    "        return sorted_elements[n // 2]\n",
    "    else:\n",
    "        # If even, return the average of the two middle elements\n",
    "        return (sorted_elements[n // 2 - 1] + sorted_elements[n // 2]) / 2\n",
    "\n",
    "# Example input list with duplicates\n",
    "input_list = [10, 20, 20, 30, 40, 10, 50, 30, 60, 10]\n",
    "\n",
    "# Remove duplicates\n",
    "unique_elements = remove_duplicates(input_list)\n",
    "\n",
    "# Calculate mean and median of unique elements\n",
    "mean = calculate_mean(unique_elements)\n",
    "median = calculate_median(unique_elements)\n",
    "\n",
    "# Output the results\n",
    "print(f\"Unique elements: {unique_elements}\")\n",
    "print(f\"Mean of unique elements: {mean}\")\n",
    "print(f\"Median of unique elements: {median}\")\n"
   ]
  },
  {
   "cell_type": "markdown",
   "id": "62c7a349-fbcd-40d1-bc59-569057caaf1a",
   "metadata": {},
   "source": [
    "12. String Operations:"
   ]
  },
  {
   "cell_type": "code",
   "execution_count": 15,
   "id": "196cf47b-d1aa-42e2-81df-085d79cf4c05",
   "metadata": {},
   "outputs": [
    {
     "name": "stdout",
     "output_type": "stream",
     "text": [
      "Longest string: strawberry\n",
      "Count of strings starting with a vowel: 4\n"
     ]
    },
    {
     "data": {
      "image/png": "[encoded data removed]",
      "text/plain": [
       "<Figure size 640x480 with 1 Axes>"
      ]
     },
     "metadata": {},
     "output_type": "display_data"
    }
   ],
   "source": [
    "import matplotlib.pyplot as plt\n",
    "\n",
    "def analyze_strings(strings):\n",
    "    # Find the longest string\n",
    "    longest_string = max(strings, key=len)\n",
    "\n",
    "    # Count how many strings start with a vowel\n",
    "    vowels = 'AEIOUaeiou'\n",
    "    count_vowel_start = sum(1 for string in strings if string[0] in vowels)\n",
    "\n",
    "    # Return the longest string and count of strings starting with a vowel\n",
    "    return longest_string, count_vowel_start\n",
    "\n",
    "def plot_string_lengths(strings):\n",
    "    # Get the lengths of all strings\n",
    "    lengths = [len(string) for string in strings]\n",
    "\n",
    "    # Plot the distribution of string lengths using a histogram\n",
    "    plt.hist(lengths, bins=range(min(lengths), max(lengths) + 2), edgecolor=\"black\", alpha=0.7)\n",
    "    plt.title(\"Distribution of String Lengths\")\n",
    "    plt.xlabel(\"String Length\")\n",
    "    plt.ylabel(\"Frequency\")\n",
    "    plt.show()\n",
    "\n",
    "# Example list of strings\n",
    "strings = [\"apple\", \"banana\", \"orange\", \"kiwi\", \"umbrella\", \"strawberry\", \"avocado\"]\n",
    "\n",
    "# Find the longest string and count strings that start with a vowel\n",
    "longest_string, count_vowel_start = analyze_strings(strings)\n",
    "\n",
    "# Print the results\n",
    "print(f\"Longest string: {longest_string}\")\n",
    "print(f\"Count of strings starting with a vowel: {count_vowel_start}\")\n",
    "\n",
    "# Visualize the string lengths distribution\n",
    "plot_string_lengths(strings)\n"
   ]
  },
  {
   "cell_type": "markdown",
   "id": "2a40cc75-1922-4c79-a7a8-4428ddb4c48c",
   "metadata": {},
   "source": [
    "13. Sorting Dictionaries:"
   ]
  },
  {
   "cell_type": "code",
   "execution_count": 16,
   "id": "0f835bf4-64e5-466a-a8df-f89546457035",
   "metadata": {},
   "outputs": [
    {
     "name": "stdout",
     "output_type": "stream",
     "text": [
      "[{'name': 'Bob', 'age': 22}, {'name': 'Alice', 'age': 25}]\n"
     ]
    }
   ],
   "source": [
    "def sort_by_key(data, key):\n",
    "    # Sort the list of dictionaries by the specified key\n",
    "    return sorted(data, key=lambda x: x[key])\n",
    "\n",
    "# Example data\n",
    "data = [{'name': 'Alice', 'age': 25}, {'name': 'Bob', 'age': 22}]\n",
    "\n",
    "# Sort the data by age\n",
    "sorted_data = sort_by_key(data, 'age')\n",
    "\n",
    "# Print the sorted data\n",
    "print(sorted_data)\n"
   ]
  },
  {
   "cell_type": "markdown",
   "id": "f8f473b9-642d-4f5d-a111-0738bbda932e",
   "metadata": {},
   "source": [
    "14. Word Filtering and Sorting:"
   ]
  },
  {
   "cell_type": "code",
   "execution_count": 17,
   "id": "6db285ba-bd06-47bf-9545-efef573a3440",
   "metadata": {},
   "outputs": [
    {
     "name": "stdout",
     "output_type": "stream",
     "text": [
      "Sorted words (after filtering): ['brown', 'jumps', 'lazy', 'over', 'quick']\n"
     ]
    },
    {
     "data": {
      "image/png": "[encoded data removed]",
      "text/plain": [
       "<Figure size 640x480 with 1 Axes>"
      ]
     },
     "metadata": {},
     "output_type": "display_data"
    }
   ],
   "source": [
    "import matplotlib.pyplot as plt\n",
    "\n",
    "def process_and_visualize_string(input_string):\n",
    "    # Split the string into a list of words\n",
    "    words = input_string.split()\n",
    "\n",
    "    # Remove words shorter than 4 characters\n",
    "    filtered_words = [word for word in words if len(word) >= 4]\n",
    "\n",
    "    # Sort the remaining words alphabetically\n",
    "    sorted_words = sorted(filtered_words)\n",
    "\n",
    "    # Print the sorted words\n",
    "    print(f\"Sorted words (after filtering): {sorted_words}\")\n",
    "\n",
    "    # Calculate the length of each remaining word\n",
    "    word_lengths = [len(word) for word in sorted_words]\n",
    "\n",
    "    # Visualize the word lengths using a bar chart\n",
    "    plt.bar(sorted_words, word_lengths, color='blue')\n",
    "    plt.xlabel(\"Words\")\n",
    "    plt.ylabel(\"Word Lengths\")\n",
    "    plt.title(\"Word Lengths Distribution\")\n",
    "    plt.xticks(rotation=45)\n",
    "    plt.show()\n",
    "\n",
    "# Example input string\n",
    "input_string = \"The quick brown fox jumps over the lazy dog\"\n",
    "\n",
    "# Process the string and visualize the result\n",
    "process_and_visualize_string(input_string)\n"
   ]
  },
  {
   "cell_type": "markdown",
   "id": "018f6b0a-b549-48c0-ab14-00ad4b15e9e8",
   "metadata": {},
   "source": [
    "15. Anagram Finder:"
   ]
  },
  {
   "cell_type": "code",
   "execution_count": 18,
   "id": "b54e9288-6e69-414d-8b44-2482206f3457",
   "metadata": {},
   "outputs": [
    {
     "name": "stdout",
     "output_type": "stream",
     "text": [
      "['enlist', 'inlets']\n"
     ]
    }
   ],
   "source": [
    "def find_anagrams(word, words):\n",
    "    # Sort the characters of the word to create a canonical form\n",
    "    sorted_word = sorted(word)\n",
    "    \n",
    "    # Filter the list of words to find those that are anagrams\n",
    "    anagrams = [w for w in words if sorted(w) == sorted_word]\n",
    "    \n",
    "    return anagrams\n",
    "\n",
    "# Example input\n",
    "word = \"listen\"\n",
    "words = [\"enlist\", \"google\", \"inlets\", \"banana\"]\n",
    "\n",
    "# Find the anagrams\n",
    "anagrams = find_anagrams(word, words)\n",
    "\n",
    "# Print the result\n",
    "print(anagrams)\n"
   ]
  },
  {
   "cell_type": "code",
   "execution_count": null,
   "id": "84dfc75c-4734-4cf5-a42f-bd1b9a0661a6",
   "metadata": {},
   "outputs": [],
   "source": []
  },
  {
   "cell_type": "markdown",
   "id": "0d7d8b12-560f-4b2c-8c33-ab8599889567",
   "metadata": {},
   "source": [
    "16. Set Operations:"
   ]
  },
  {
   "cell_type": "code",
   "execution_count": 20,
   "id": "680d44b0-ab69-427b-8efc-d4738d212d90",
   "metadata": {},
   "outputs": [
    {
     "ename": "ModuleNotFoundError",
     "evalue": "No module named 'matplotlib_venn'",
     "output_type": "error",
     "traceback": [
      "\u001b[1;31m---------------------------------------------------------------------------\u001b[0m",
      "\u001b[1;31mModuleNotFoundError\u001b[0m                       Traceback (most recent call last)",
      "Cell \u001b[1;32mIn[20], line 2\u001b[0m\n\u001b[0;32m      1\u001b[0m \u001b[38;5;28;01mimport\u001b[39;00m \u001b[38;5;21;01mmatplotlib\u001b[39;00m\u001b[38;5;21;01m.\u001b[39;00m\u001b[38;5;21;01mpyplot\u001b[39;00m \u001b[38;5;28;01mas\u001b[39;00m \u001b[38;5;21;01mplt\u001b[39;00m\n\u001b[1;32m----> 2\u001b[0m \u001b[38;5;28;01mfrom\u001b[39;00m \u001b[38;5;21;01mmatplotlib_venn\u001b[39;00m \u001b[38;5;28;01mimport\u001b[39;00m venn2\n\u001b[0;32m      4\u001b[0m \u001b[38;5;28;01mdef\u001b[39;00m \u001b[38;5;21mfind_set_operations\u001b[39m(list1, list2):\n\u001b[0;32m      5\u001b[0m     \u001b[38;5;66;03m# Convert lists to sets\u001b[39;00m\n\u001b[0;32m      6\u001b[0m     set1 \u001b[38;5;241m=\u001b[39m \u001b[38;5;28mset\u001b[39m(list1)\n",
      "\u001b[1;31mModuleNotFoundError\u001b[0m: No module named 'matplotlib_venn'"
     ]
    }
   ],
   "source": [
    "import matplotlib.pyplot as plt\n",
    "from matplotlib_venn import venn2\n",
    "\n",
    "def find_set_operations(list1, list2):\n",
    "    # Convert lists to sets\n",
    "    set1 = set(list1)\n",
    "    set2 = set(list2)\n",
    "    \n",
    "    # Find the intersection, union, and symmetric difference\n",
    "    intersection = set1 & set2\n",
    "    union = set1 | set2\n",
    "    symmetric_difference = set1 ^ set2\n",
    "    \n",
    "    return intersection, union, symmetric_difference\n",
    "\n",
    "def plot_venn(set1, set2, intersection):\n",
    "    # Create a Venn diagram to visualize the results\n",
    "    venn = venn2(subsets=(len(set1 - set2), len(intersection), len(set2 - set1)),\n",
    "                 set_labels=('List 1', 'List 2'))\n",
    "    \n",
    "    venn.get_label_by_id('10').set_text(f\"List 1 only: {len(set1 - set2)}\")\n",
    "    venn.get_label_by_id('01').set_text(f\"List 2 only: {len(set2 - set1)}\")\n",
    "    venn.get_label_by_id('11').set_text(f\"Intersection: {len(intersection)}\")\n",
    "    \n",
    "    plt.title(\"Venn Diagram of Set Operations\")\n",
    "    plt.show()\n",
    "\n",
    "# Example input lists\n",
    "list1 = [1, 2, 3, 4, 5]\n",
    "list2 = [4, 5, 6, 7, 8]\n",
    "\n",
    "# Find the intersection, union, and symmetric difference\n",
    "intersection, union, symmetric_difference = find_set_operations(list1, list2)\n",
    "\n",
    "# Print the results\n",
    "print(f\"Intersection: {intersection}\")\n",
    "print(f\"Union: {union}\")\n",
    "print(f\"Symmetric Difference: {symmetric_difference}\")\n",
    "\n",
    "# Visualize the result using a Venn diagram\n",
    "plot_venn(set(list1), set(list2), intersection)\n"
   ]
  },
  {
   "cell_type": "markdown",
   "id": "fc127f72-0849-427e-800b-44faf6e06525",
   "metadata": {},
   "source": [
    "17. File Operations:"
   ]
  },
  {
   "cell_type": "code",
   "execution_count": 22,
   "id": "a5dd6af9-f4c8-4a5b-8ce6-eb75458e66ff",
   "metadata": {},
   "outputs": [
    {
     "name": "stdout",
     "output_type": "stream",
     "text": [
      "The sum of the numbers in the file is: 150\n"
     ]
    }
   ],
   "source": [
    "def write_numbers_to_file(filename, numbers):\n",
    "    # Write numbers to the file (one per line)\n",
    "    with open(filename, 'w') as file:\n",
    "        for number in numbers:\n",
    "            file.write(f\"{number}\\n\")\n",
    "\n",
    "def read_and_sum_numbers_from_file(filename):\n",
    "    # Read numbers from the file and compute their sum\n",
    "    with open(filename, 'r') as file:\n",
    "        numbers = [int(line.strip()) for line in file]\n",
    "    return sum(numbers)\n",
    "\n",
    "# Example list of numbers\n",
    "numbers = [10, 20, 30, 40, 50]\n",
    "\n",
    "# File to write to\n",
    "filename = \"numbers.txt\"\n",
    "\n",
    "# Write numbers to the file\n",
    "write_numbers_to_file(filename, numbers)\n",
    "\n",
    "# Read from the file and compute the sum\n",
    "total = read_and_sum_numbers_from_file(filename)\n",
    "\n",
    "# Print the sum\n",
    "print(f\"The sum of the numbers in the file is: {total}\")\n"
   ]
  },
  {
   "cell_type": "markdown",
   "id": "51b5cabb-3970-4e7b-981d-7f58e277823f",
   "metadata": {},
   "source": [
    "19. Random Number Generation:"
   ]
  },
  {
   "cell_type": "code",
   "execution_count": 37,
   "id": "c3005b74-867c-4617-9c94-dafd7d7ffb31",
   "metadata": {},
   "outputs": [
    {
     "name": "stdout",
     "output_type": "stream",
     "text": [
      "Mean of the numbers: 26.79\n"
     ]
    },
    {
     "data": {
      "image/png": "[encoded data removed]",
      "text/plain": [
       "<Figure size 640x480 with 1 Axes>"
      ]
     },
     "metadata": {},
     "output_type": "display_data"
    }
   ],
   "source": [
    "import random\n",
    "import matplotlib.pyplot as plt\n",
    "\n",
    "def generate_random_numbers(filename, count=100, lower=1, upper=50):\n",
    "    # Generate random integers\n",
    "    random_numbers = [random.randint(lower, upper) for _ in range(count)]\n",
    "\n",
    "    # Save the numbers to a text file, one per line\n",
    "    with open(filename, 'w') as file:\n",
    "        for number in random_numbers:\n",
    "            file.write(f\"{number}\\n\")\n",
    "    \n",
    "    return random_numbers\n",
    "\n",
    "def read_and_compute_mean(filename):\n",
    "    # Read the numbers from the file and compute the mean\n",
    "    with open(filename, 'r') as file:\n",
    "        numbers = [int(line.strip()) for line in file]\n",
    "    \n",
    "    mean = sum(numbers) / len(numbers) if numbers else 0\n",
    "    return numbers, mean\n",
    "\n",
    "def visualize_distribution(numbers):\n",
    "    # Plot the distribution of numbers using a histogram\n",
    "    plt.hist(numbers, bins=range(1, 52), edgecolor='black', alpha=0.7)\n",
    "    plt.title('Distribution of Random Numbers')\n",
    "    plt.xlabel('Number')\n",
    "    plt.ylabel('Frequency')\n",
    "    plt.show()\n",
    "\n",
    "# Example usage\n",
    "filename = \"random_numbers.txt\"\n",
    "\n",
    "# Generate random numbers and save to file\n",
    "numbers = generate_random_numbers(filename)\n",
    "\n",
    "# Read numbers from file and compute the mean\n",
    "numbers_from_file, mean = read_and_compute_mean(filename)\n",
    "\n",
    "# Print the mean\n",
    "print(f\"Mean of the numbers: {mean}\")\n",
    "\n",
    "# Visualize the distribution using a histogram\n",
    "visualize_distribution(numbers_from_file)\n"
   ]
  },
  {
   "cell_type": "markdown",
   "id": "2db9d371-c9e5-4e0a-a98f-80b95594a587",
   "metadata": {},
   "source": [
    "21. Basic Statistics:"
   ]
  },
  {
   "cell_type": "code",
   "execution_count": 26,
   "id": "aac1b9b8-ef75-4b8a-ae6b-fe4d597c1deb",
   "metadata": {},
   "outputs": [
    {
     "name": "stdout",
     "output_type": "stream",
     "text": [
      "Mean: 15.9\n",
      "Median: 15.0\n",
      "Mode: [15]\n",
      "Standard Deviation: 5.57584074378026\n"
     ]
    },
    {
     "data": {
      "image/png": "[encoded data removed]",
      "text/plain": [
       "<Figure size 640x480 with 1 Axes>"
      ]
     },
     "metadata": {},
     "output_type": "display_data"
    }
   ],
   "source": [
    "import matplotlib.pyplot as plt\n",
    "from collections import Counter\n",
    "import math\n",
    "\n",
    "def calculate_mean(numbers):\n",
    "    # Mean is the sum of the numbers divided by the count\n",
    "    return sum(numbers) / len(numbers)\n",
    "\n",
    "def calculate_median(numbers):\n",
    "    # Sort the numbers first\n",
    "    numbers.sort()\n",
    "    \n",
    "    n = len(numbers)\n",
    "    if n % 2 == 0:\n",
    "        # If even number of elements, return the average of the middle two\n",
    "        return (numbers[n//2 - 1] + numbers[n//2]) / 2\n",
    "    else:\n",
    "        # If odd number of elements, return the middle element\n",
    "        return numbers[n//2]\n",
    "\n",
    "def calculate_mode(numbers):\n",
    "    # Use Counter to count occurrences of each number\n",
    "    count = Counter(numbers)\n",
    "    max_count = max(count.values())\n",
    "    mode = [num for num, freq in count.items() if freq == max_count]\n",
    "    return mode\n",
    "\n",
    "def calculate_standard_deviation(numbers, mean):\n",
    "    # Standard deviation formula: sqrt(sum((x - mean)²) / n)\n",
    "    variance = sum((x - mean) ** 2 for x in numbers) / len(numbers)\n",
    "    return math.sqrt(variance)\n",
    "\n",
    "def plot_box_plot(numbers):\n",
    "    # Create a box plot\n",
    "    plt.boxplot(numbers)\n",
    "    plt.title('Box Plot of the Numbers')\n",
    "    plt.ylabel('Values')\n",
    "    plt.show()\n",
    "\n",
    "# Example list of numbers\n",
    "numbers = [12, 15, 14, 10, 18, 10, 20, 15, 15, 30]\n",
    "\n",
    "# Calculate mean, median, mode, and standard deviation\n",
    "mean = calculate_mean(numbers)\n",
    "median = calculate_median(numbers)\n",
    "mode = calculate_mode(numbers)\n",
    "std_dev = calculate_standard_deviation(numbers, mean)\n",
    "\n",
    "# Print the results\n",
    "print(f\"Mean: {mean}\")\n",
    "print(f\"Median: {median}\")\n",
    "print(f\"Mode: {mode}\")\n",
    "print(f\"Standard Deviation: {std_dev}\")\n",
    "\n",
    "# Visualize the data with a box plot\n",
    "plot_box_plot(numbers)\n"
   ]
  },
  {
   "cell_type": "markdown",
   "id": "a67d2447-d89c-46a6-a5c5-c539fcc547ca",
   "metadata": {},
   "source": [
    "22. Normalization:"
   ]
  },
  {
   "cell_type": "code",
   "execution_count": 30,
   "id": "bcb1be03-a60f-4b23-9e75-c1d280ad2b65",
   "metadata": {},
   "outputs": [
    {
     "name": "stdout",
     "output_type": "stream",
     "text": [
      "Normalized Data: [0.1, 0.25, 0.2, 0.0, 0.4, 0.0, 0.5, 0.25, 0.25, 1.0]\n"
     ]
    }
   ],
   "source": [
    "import matplotlib.pyplot as plt\n",
    "\n",
    "def normalize_data(numbers):\n",
    "    # Find the minimum and maximum values in the list\n",
    "    min_val = min(numbers)\n",
    "    max_val = max(numbers)\n",
    "    \n",
    "    # Normalize each number in the list to the range [0, 1]\n",
    "    normalized_numbers = [(x - min_val) / (max_val - min_val) for x in numbers]\n",
    "    \n",
    "    return normalized_numbers\n",
    "\n",
    "def plot_line_chart(numbers):\n",
    "    # Create a line plot of the numbers\n",
    "    plt.plot(numbers, marker='o', linestyle='-', color='b')\n",
    "    plt.title('Normalized Data Line Plot')\n",
    "    plt.xlabel('Index')\n",
    "    plt.ylabel('Normalized Value')\n",
    "    plt.grid(True)\n",
    "    plt.show()\n",
    "\n",
    "# Example usage\n",
    "numbers = [12, 15, 14, 10, 18, 10, 20, 15, 15, 30]\n",
    "\n",
    "# Normalize the data to the range [0, 1]\n",
    "normalized_numbers = normalize_data(numbers)\n",
    "\n",
    "# Print the normalized data\n",
    "print(f\"Normalized Data: {normalized_numbers}\")\n",
    "\n"
   ]
  },
  {
   "cell_type": "markdown",
   "id": "855634e8-8ea3-4a0a-9ebc-5b5daedda420",
   "metadata": {},
   "source": [
    "23. Even or Odd:"
   ]
  },
  {
   "cell_type": "code",
   "execution_count": 29,
   "id": "15dfec58-50aa-4469-8fcb-1e33996db7b3",
   "metadata": {},
   "outputs": [
    {
     "name": "stdin",
     "output_type": "stream",
     "text": [
      "Enter an integer:  10\n"
     ]
    },
    {
     "name": "stdout",
     "output_type": "stream",
     "text": [
      "The number 10 is Even.\n"
     ]
    }
   ],
   "source": [
    "# Function to check if a number is even or odd\n",
    "def check_even_odd(number):\n",
    "    if number % 2 == 0:\n",
    "        return \"Even\"\n",
    "    else:\n",
    "        return \"Odd\"\n",
    "\n",
    "# Get input from the user\n",
    "number = int(input(\"Enter an integer: \"))\n",
    "\n",
    "# Check and print whether the number is even or odd\n",
    "result = check_even_odd(number)\n",
    "print(f\"The number {number} is {result}.\")\n"
   ]
  },
  {
   "cell_type": "markdown",
   "id": "c574dcdd-0d99-45a4-bfc3-ae1a3907240f",
   "metadata": {},
   "source": [
    "24. Grade Calculator:"
   ]
  },
  {
   "cell_type": "code",
   "execution_count": 31,
   "id": "f62ce2da-c952-41d0-a253-4ebeb1b1bba7",
   "metadata": {},
   "outputs": [
    {
     "name": "stdin",
     "output_type": "stream",
     "text": [
      "Enter the numerical grade (0-100):  7\n"
     ]
    },
    {
     "name": "stdout",
     "output_type": "stream",
     "text": [
      "The corresponding letter grade is: F\n"
     ]
    }
   ],
   "source": [
    "# Function to determine the letter grade\n",
    "def get_letter_grade(grade):\n",
    "    if 90 <= grade <= 100:\n",
    "        return \"A\"\n",
    "    elif 80 <= grade < 90:\n",
    "        return \"B\"\n",
    "    elif 70 <= grade < 80:\n",
    "        return \"C\"\n",
    "    elif 60 <= grade < 70:\n",
    "        return \"D\"\n",
    "    elif 0 <= grade < 60:\n",
    "        return \"F\"\n",
    "    else:\n",
    "        return \"Invalid grade\"\n",
    "\n",
    "# Main program\n",
    "try:\n",
    "    # Get user input\n",
    "    grade = float(input(\"Enter the numerical grade (0-100): \"))\n",
    "    \n",
    "    # Get and print the corresponding letter grade\n",
    "    letter_grade = get_letter_grade(grade)\n",
    "    print(f\"The corresponding letter grade is: {letter_grade}\")\n",
    "except ValueError:\n",
    "    print(\"Invalid input. Please enter a valid numerical grade.\")\n"
   ]
  },
  {
   "cell_type": "markdown",
   "id": "77dbc0d1-2bc5-47e2-96e1-cd5028a629ef",
   "metadata": {},
   "source": [
    "25. Leap Year Checker:"
   ]
  },
  {
   "cell_type": "code",
   "execution_count": 32,
   "id": "fa69b497-c3e3-4aa9-9d05-3f5018a3b724",
   "metadata": {},
   "outputs": [
    {
     "name": "stdin",
     "output_type": "stream",
     "text": [
      "Enter a year:  2024\n"
     ]
    },
    {
     "name": "stdout",
     "output_type": "stream",
     "text": [
      "2024 is a leap year.\n"
     ]
    }
   ],
   "source": [
    "# Function to check if a year is a leap year\n",
    "def is_leap_year(year):\n",
    "    if (year % 4 == 0 and year % 100 != 0) or (year % 400 == 0):\n",
    "        return True\n",
    "    else:\n",
    "        return False\n",
    "\n",
    "# Main program\n",
    "try:\n",
    "    # Get user input\n",
    "    year = int(input(\"Enter a year: \"))\n",
    "    \n",
    "    # Check and display whether it's a leap year\n",
    "    if is_leap_year(year):\n",
    "        print(f\"{year} is a leap year.\")\n",
    "    else:\n",
    "        print(f\"{year} is not a leap year.\")\n",
    "except ValueError:\n",
    "    print(\"Invalid input. Please enter a valid year.\")\n"
   ]
  },
  {
   "cell_type": "code",
   "execution_count": null,
   "id": "fee57fcf-0db8-4056-b0d7-bf59252cd3e5",
   "metadata": {},
   "outputs": [],
   "source": []
  }
 ],
 "metadata": {
  "kernelspec": {
   "display_name": "Python 3 (ipykernel)",
   "language": "python",
   "name": "python3"
  },
  "language_info": {
   "codemirror_mode": {
    "name": "ipython",
    "version": 3
   },
   "file_extension": ".py",
   "mimetype": "text/x-python",
   "name": "python",
   "nbconvert_exporter": "python",
   "pygments_lexer": "ipython3",
   "version": "3.12.4"
  }
 },
 "nbformat": 4,
 "nbformat_minor": 5
}
